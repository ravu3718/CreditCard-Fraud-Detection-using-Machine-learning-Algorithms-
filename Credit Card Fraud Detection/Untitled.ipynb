{
 "cells": [
  {
   "cell_type": "code",
   "execution_count": 1,
   "metadata": {},
   "outputs": [
    {
     "name": "stdout",
     "output_type": "stream",
     "text": [
      "Python: 3.7.1 (default, Dec 10 2018, 22:54:23) [MSC v.1915 64 bit (AMD64)]\n",
      "Numpy: 1.15.4\n",
      "Pandas: 0.23.4\n",
      "Matplotlib: 3.0.2\n",
      "Seaborn: 0.9.0\n",
      "Scipy: 1.1.0\n"
     ]
    }
   ],
   "source": [
    "import sys\n",
    "import numpy\n",
    "import pandas\n",
    "import matplotlib\n",
    "import seaborn\n",
    "import scipy\n",
    "\n",
    "print('Python: {}'.format(sys.version))\n",
    "print('Numpy: {}'.format(numpy.__version__))\n",
    "print('Pandas: {}'.format(pandas.__version__))\n",
    "print('Matplotlib: {}'.format(matplotlib.__version__))\n",
    "print('Seaborn: {}'.format(seaborn.__version__))\n",
    "print('Scipy: {}'.format(scipy.__version__))"
   ]
  },
  {
   "cell_type": "code",
   "execution_count": 2,
   "metadata": {},
   "outputs": [],
   "source": [
    "import numpy as np\n",
    "import pandas as pd\n",
    "import matplotlib.pyplot as plt\n",
    "import seaborn as sns"
   ]
  },
  {
   "cell_type": "code",
   "execution_count": 3,
   "metadata": {},
   "outputs": [],
   "source": [
    "data = pd.read_csv('creditcard.csv')"
   ]
  },
  {
   "cell_type": "code",
   "execution_count": 4,
   "metadata": {},
   "outputs": [
    {
     "name": "stdout",
     "output_type": "stream",
     "text": [
      "Index(['Time', 'V1', 'V2', 'V3', 'V4', 'V5', 'V6', 'V7', 'V8', 'V9', 'V10',\n",
      "       'V11', 'V12', 'V13', 'V14', 'V15', 'V16', 'V17', 'V18', 'V19', 'V20',\n",
      "       'V21', 'V22', 'V23', 'V24', 'V25', 'V26', 'V27', 'V28', 'Amount',\n",
      "       'Class'],\n",
      "      dtype='object')\n"
     ]
    }
   ],
   "source": [
    "print(data.columns)"
   ]
  },
  {
   "cell_type": "code",
   "execution_count": 5,
   "metadata": {},
   "outputs": [
    {
     "name": "stdout",
     "output_type": "stream",
     "text": [
      "(28481, 31)\n",
      "                Time            V1            V2            V3            V4  \\\n",
      "count   28481.000000  28481.000000  28481.000000  28481.000000  28481.000000   \n",
      "mean    94705.035216     -0.001143     -0.018290      0.000795      0.000350   \n",
      "std     47584.727034      1.994661      1.709050      1.522313      1.420003   \n",
      "min         0.000000    -40.470142    -63.344698    -31.813586     -5.266509   \n",
      "25%     53924.000000     -0.908809     -0.610322     -0.892884     -0.847370   \n",
      "50%     84551.000000      0.031139      0.051775      0.178943     -0.017692   \n",
      "75%    139392.000000      1.320048      0.792685      1.035197      0.737312   \n",
      "max    172784.000000      2.411499     17.418649      4.069865     16.715537   \n",
      "\n",
      "                 V5            V6            V7            V8            V9  \\\n",
      "count  28481.000000  28481.000000  28481.000000  28481.000000  28481.000000   \n",
      "mean      -0.015666      0.003634     -0.008523     -0.003040      0.014536   \n",
      "std        1.395552      1.334985      1.237249      1.204102      1.098006   \n",
      "min      -42.147898    -19.996349    -22.291962    -33.785407     -8.739670   \n",
      "25%       -0.703986     -0.765807     -0.562033     -0.208445     -0.632488   \n",
      "50%       -0.068037     -0.269071      0.028378      0.024696     -0.037100   \n",
      "75%        0.603574      0.398839      0.559428      0.326057      0.621093   \n",
      "max       28.762671     22.529298     36.677268     19.587773      8.141560   \n",
      "\n",
      "           ...                V21           V22           V23           V24  \\\n",
      "count      ...       28481.000000  28481.000000  28481.000000  28481.000000   \n",
      "mean       ...           0.004740      0.006719     -0.000494     -0.002626   \n",
      "std        ...           0.744743      0.728209      0.645945      0.603968   \n",
      "min        ...         -16.640785    -10.933144    -30.269720     -2.752263   \n",
      "25%        ...          -0.224842     -0.535877     -0.163047     -0.360582   \n",
      "50%        ...          -0.029075      0.014337     -0.012678      0.038383   \n",
      "75%        ...           0.189068      0.533936      0.148065      0.434851   \n",
      "max        ...          22.588989      6.090514     15.626067      3.944520   \n",
      "\n",
      "                V25           V26           V27           V28        Amount  \\\n",
      "count  28481.000000  28481.000000  28481.000000  28481.000000  28481.000000   \n",
      "mean      -0.000917      0.004762     -0.001689     -0.004154     89.957884   \n",
      "std        0.520679      0.488171      0.418304      0.321646    270.894630   \n",
      "min       -7.025783     -2.534330     -8.260909     -9.617915      0.000000   \n",
      "25%       -0.319611     -0.328476     -0.071712     -0.053379      5.980000   \n",
      "50%        0.015231     -0.049750      0.000914      0.010753     22.350000   \n",
      "75%        0.351466      0.253580      0.090329      0.076267     78.930000   \n",
      "max        5.541598      3.118588     11.135740     15.373170  19656.530000   \n",
      "\n",
      "              Class  \n",
      "count  28481.000000  \n",
      "mean       0.001720  \n",
      "std        0.041443  \n",
      "min        0.000000  \n",
      "25%        0.000000  \n",
      "50%        0.000000  \n",
      "75%        0.000000  \n",
      "max        1.000000  \n",
      "\n",
      "[8 rows x 31 columns]\n"
     ]
    }
   ],
   "source": [
    "data = data.sample(frac=0.1, random_state = 1)\n",
    "print(data.shape)\n",
    "print(data.describe())"
   ]
  },
  {
   "cell_type": "code",
   "execution_count": null,
   "metadata": {},
   "outputs": [],
   "source": []
  }
 ],
 "metadata": {
  "kernelspec": {
   "display_name": "Python 3",
   "language": "python",
   "name": "python3"
  },
  "language_info": {
   "codemirror_mode": {
    "name": "ipython",
    "version": 3
   },
   "file_extension": ".py",
   "mimetype": "text/x-python",
   "name": "python",
   "nbconvert_exporter": "python",
   "pygments_lexer": "ipython3",
   "version": "3.7.1"
  }
 },
 "nbformat": 4,
 "nbformat_minor": 2
}
